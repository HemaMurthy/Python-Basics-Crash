{
 "cells": [
  {
   "cell_type": "markdown",
   "metadata": {},
   "source": [
    "# Arrays / List\n",
    "\n",
    "- Calculating index : O(1)\n",
    "- Inserting or Deleting an element at beginning : O(n)\n",
    "- Inserting or Deleting an element at middle : O(n)\n",
    "- Inserting or Deleting an element at end : O(1)\n",
    "\n",
    "# Linked List\n",
    "\n",
    "Collection of data elements, containing reference to next node in list\n",
    "\n",
    "+\n",
    "+ Easy to insert and delete\n",
    "+ Underlying memory dont need formating\n",
    "\n",
    "-\n",
    "- Cant do constant time random access\n",
    "- Looking up an item : O(n)\n",
    "\n",
    "# Stacks\n",
    "\n",
    "Collection in Last In - First out order\n",
    "\n",
    "- Push and Pop are constant time operations\n",
    "\n",
    "+\n",
    "+ Parse and evaluate expressions\n",
    "+ provides backstracking features\n",
    "\n",
    "# Queues\n",
    "\n",
    "Collection of First In - First out method\n",
    "\n",
    "- Enqueue and Dequeue are constant time operations\n",
    "\n",
    "+\n",
    "+ order processing\n",
    "+ Messaging\n",
    "\n",
    "# Hash Tables / Dictionaries\n",
    "\n",
    "Assosciative array, uses hash functions\n",
    "\n",
    "+\n",
    "* Typically faster for look ups\n",
    "* Maps keys & values\n",
    "\n",
    "-\n",
    "- if data size is small, then using hashtables is ineffiecient\n",
    "- unpredictable key hashing\n",
    "- collision control\n"
   ]
  },
  {
   "cell_type": "code",
   "execution_count": 1,
   "metadata": {},
   "outputs": [],
   "source": [
    "#Linked list implementation"
   ]
  },
  {
   "cell_type": "code",
   "execution_count": null,
   "metadata": {},
   "outputs": [],
   "source": []
  }
 ],
 "metadata": {
  "kernelspec": {
   "display_name": "Python 3",
   "language": "python",
   "name": "python3"
  },
  "language_info": {
   "codemirror_mode": {
    "name": "ipython",
    "version": 3
   },
   "file_extension": ".py",
   "mimetype": "text/x-python",
   "name": "python",
   "nbconvert_exporter": "python",
   "pygments_lexer": "ipython3",
   "version": "3.6.9"
  }
 },
 "nbformat": 4,
 "nbformat_minor": 2
}
